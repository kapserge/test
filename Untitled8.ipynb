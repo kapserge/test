{
  "nbformat": 4,
  "nbformat_minor": 0,
  "metadata": {
    "colab": {
      "name": "Untitled8.ipynb",
      "provenance": [],
      "authorship_tag": "ABX9TyOBLgTl4vZfVh7H3dMFll0I",
      "include_colab_link": true
    },
    "kernelspec": {
      "name": "python3",
      "display_name": "Python 3"
    },
    "language_info": {
      "name": "python"
    }
  },
  "cells": [
    {
      "cell_type": "markdown",
      "metadata": {
        "id": "view-in-github",
        "colab_type": "text"
      },
      "source": [
        "<a href=\"https://colab.research.google.com/github/kapserge/test/blob/master/Untitled8.ipynb\" target=\"_parent\"><img src=\"https://colab.research.google.com/assets/colab-badge.svg\" alt=\"Open In Colab\"/></a>"
      ]
    },
    {
      "cell_type": "code",
      "execution_count": 45,
      "metadata": {
        "id": "9afIb9oSMZZz",
        "colab": {
          "base_uri": "https://localhost:8080/"
        },
        "outputId": "528d1767-a0b2-4d47-ef94-1053ea1cbee7"
      },
      "outputs": [
        {
          "output_type": "execute_result",
          "data": {
            "text/plain": [
              "['treefive',\n",
              " 1,\n",
              " 2,\n",
              " 'tree',\n",
              " 4,\n",
              " 'five',\n",
              " 'tree',\n",
              " 7,\n",
              " 8,\n",
              " 'tree',\n",
              " 'five',\n",
              " 11,\n",
              " 'tree',\n",
              " 13,\n",
              " 14,\n",
              " 'treefive',\n",
              " 16,\n",
              " 17,\n",
              " 'tree',\n",
              " 19,\n",
              " 'five',\n",
              " 'tree',\n",
              " 22,\n",
              " 23,\n",
              " 'tree',\n",
              " 'five',\n",
              " 26,\n",
              " 'tree',\n",
              " 28,\n",
              " 29,\n",
              " 'treefive',\n",
              " 31,\n",
              " 32,\n",
              " 'tree',\n",
              " 34,\n",
              " 'five',\n",
              " 'tree',\n",
              " 37,\n",
              " 38,\n",
              " 'tree',\n",
              " 'five',\n",
              " 41,\n",
              " 'tree',\n",
              " 43,\n",
              " 44,\n",
              " 'treefive',\n",
              " 46,\n",
              " 47,\n",
              " 'tree',\n",
              " 49,\n",
              " 'five',\n",
              " 'tree',\n",
              " 52,\n",
              " 53,\n",
              " 'tree',\n",
              " 'five',\n",
              " 56,\n",
              " 'tree',\n",
              " 58,\n",
              " 59,\n",
              " 'treefive',\n",
              " 61,\n",
              " 62,\n",
              " 'tree',\n",
              " 64,\n",
              " 'five',\n",
              " 'tree',\n",
              " 67,\n",
              " 68,\n",
              " 'tree',\n",
              " 'five',\n",
              " 71,\n",
              " 'tree',\n",
              " 73,\n",
              " 74,\n",
              " 'treefive',\n",
              " 76,\n",
              " 77,\n",
              " 'tree',\n",
              " 79,\n",
              " 'five',\n",
              " 'tree',\n",
              " 82,\n",
              " 83,\n",
              " 'tree',\n",
              " 'five',\n",
              " 86,\n",
              " 'tree',\n",
              " 88,\n",
              " 89,\n",
              " 'treefive',\n",
              " 91,\n",
              " 92,\n",
              " 'tree',\n",
              " 94,\n",
              " 'five',\n",
              " 'tree',\n",
              " 97,\n",
              " 98,\n",
              " 'tree']"
            ]
          },
          "metadata": {},
          "execution_count": 45
        }
      ],
      "source": [
        "l= list(range(100))\n",
        "\n",
        "for i, n in enumerate(l):\n",
        "  if i%3 == 0:\n",
        "    l[i] = 'tree'\n",
        "  if i%5 == 0:\n",
        "    l[i] = 'five'\n",
        "  if i%5 == 0 and i%3 == 0:\n",
        "    l[i] = 'treefive'\n",
        "l"
      ]
    },
    {
      "cell_type": "code",
      "source": [
        "def calsum(l):\n",
        "    check_list = isinstance(l, list)\n",
        "    # returning sum of list using List comprehension\n",
        "    r = [x for x in l if not isinstance(x, int)]\n",
        "    \n",
        "    return  sum([int(i) for i in r if type(i)== int or i.isdigit()])\n",
        "\n",
        "  \n",
        "# Result of sum of list\n",
        "calsum('54')\n"
      ],
      "metadata": {
        "colab": {
          "base_uri": "https://localhost:8080/"
        },
        "id": "XOvN0dB5HM0W",
        "outputId": "3a598bde-9d4b-48d6-ab9e-16fd854f3ff1"
      },
      "execution_count": 72,
      "outputs": [
        {
          "output_type": "execute_result",
          "data": {
            "text/plain": [
              "9"
            ]
          },
          "metadata": {},
          "execution_count": 72
        }
      ]
    },
    {
      "cell_type": "code",
      "source": [
        "from itertools import groupby\n",
        "def anagrams(a,b): \n",
        "  listA = []\n",
        "  sorted_defaultword = sorted(b[0])\n",
        "  print (sorted_defaultword)\n",
        "  for i in range (len(a)):\n",
        "      #print(a[i])\n",
        "      sorted_word = sorted(a[i])\n",
        "      #print (sorted_word)\n",
        "      if (sorted_word == sorted_defaultword):\n",
        "          listA.append(a[i])\n",
        "  \n",
        "  return listA\n",
        "anagrams('abba', ['aabb', 'abcd', 'bbaa', 'dada'])  \n",
        "      "
      ],
      "metadata": {
        "colab": {
          "base_uri": "https://localhost:8080/"
        },
        "id": "TpZsMm3Tpw8E",
        "outputId": "01ae7569-c674-486d-9498-388c852a8dd9"
      },
      "execution_count": 28,
      "outputs": [
        {
          "output_type": "stream",
          "name": "stdout",
          "text": [
            "['a', 'a', 'b', 'b']\n"
          ]
        },
        {
          "output_type": "execute_result",
          "data": {
            "text/plain": [
              "[]"
            ]
          },
          "metadata": {},
          "execution_count": 28
        }
      ]
    },
    {
      "cell_type": "code",
      "source": [
        "def anagrams(word, words):\n",
        "    return [i for i in words if set(i) == set(word) and len(i) == len(word)]\n",
        "\n",
        "#anagrams('abba', ['aabb', 'abcd', 'bbaa', 'dada'])\n",
        "anagrams('racer', ['crazer', 'carer', 'racar', 'caers', 'racer']) \n",
        "#anagrams('laser', ['lazing', 'lazy',  'lacer'])\n"
      ],
      "metadata": {
        "colab": {
          "base_uri": "https://localhost:8080/"
        },
        "id": "ixakoPpdm2tt",
        "outputId": "ad15d707-48f7-44af-a21d-da61c1aa85af"
      },
      "execution_count": 32,
      "outputs": [
        {
          "output_type": "execute_result",
          "data": {
            "text/plain": [
              "['carer', 'racer']"
            ]
          },
          "metadata": {},
          "execution_count": 32
        }
      ]
    },
    {
      "cell_type": "code",
      "source": [
        "\n",
        "a = ['aabb', 'abcd', 'bbaa', 'dada']\n",
        "b = ['abab']\n",
        "listA = []\n",
        "sorted_defaultword = sorted(b[0])\n",
        "print (sorted_defaultword)\n",
        "for i in range (len(a)):\n",
        "    #print(a[i])\n",
        "    sorted_word = sorted(a[i])\n",
        "    #print (sorted_word)\n",
        "    if (sorted_word == sorted_defaultword):\n",
        "        listA.append(a[i])\n",
        "print (listA)\n"
      ],
      "metadata": {
        "colab": {
          "base_uri": "https://localhost:8080/"
        },
        "id": "GNamkh6LjcQP",
        "outputId": "2e71daae-b777-4f25-b98b-13dff550fc26"
      },
      "execution_count": 25,
      "outputs": [
        {
          "output_type": "stream",
          "name": "stdout",
          "text": [
            "['a', 'a', 'b', 'b']\n",
            "['aabb', 'bbaa']\n"
          ]
        }
      ]
    },
    {
      "cell_type": "code",
      "source": [
        "def sum_mix(arr):\n",
        "    sumIntStr = sum(map(int, arr))\n",
        "    return sumIntStr\n",
        "sum_mix(['0', 3, '8', 2, '1'])"
      ],
      "metadata": {
        "colab": {
          "base_uri": "https://localhost:8080/"
        },
        "id": "NGmKrSI-a482",
        "outputId": "77566ffc-41ee-408f-a1b4-07c42476d3db"
      },
      "execution_count": 59,
      "outputs": [
        {
          "output_type": "execute_result",
          "data": {
            "text/plain": [
              "14"
            ]
          },
          "metadata": {},
          "execution_count": 59
        }
      ]
    },
    {
      "cell_type": "code",
      "source": [
        "from numpy import prod\n",
        "def is_colorful(n):\n",
        "   return (\n",
        "       lambda x:len(x)==len(set(x)))([prod([int(d) for d in t]) for t in [str(n)[i:j] for i in range(len(str(n))) for j in range(i+1, len(str(n))+1)]])\n",
        "\n",
        "is_colorful(2532)\n"
      ],
      "metadata": {
        "colab": {
          "base_uri": "https://localhost:8080/"
        },
        "id": "wQoDLcQJ1v_H",
        "outputId": "b124b86b-0661-4c3c-d5a5-8b2359bc6355"
      },
      "execution_count": 99,
      "outputs": [
        {
          "output_type": "execute_result",
          "data": {
            "text/plain": [
              "False"
            ]
          },
          "metadata": {},
          "execution_count": 99
        }
      ]
    }
  ]
}